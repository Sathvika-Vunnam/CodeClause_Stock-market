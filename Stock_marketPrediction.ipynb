{
  "nbformat": 4,
  "nbformat_minor": 0,
  "metadata": {
    "colab": {
      "provenance": [],
      "authorship_tag": "ABX9TyPa5fAI6XmZgENRU5k9/uSA"
    },
    "kernelspec": {
      "name": "python3",
      "display_name": "Python 3"
    },
    "language_info": {
      "name": "python"
    }
  },
  "cells": [
    {
      "cell_type": "code",
      "source": [
        "import numpy as np\n",
        "import pandas as pd\n"
      ],
      "metadata": {
        "id": "c7kBAGlm7GVF"
      },
      "execution_count": null,
      "outputs": []
    },
    {
      "cell_type": "code",
      "source": [
        "from google.colab import files\n",
        "uploaded = files.upload()"
      ],
      "metadata": {
        "colab": {
          "base_uri": "https://localhost:8080/",
          "height": 73
        },
        "id": "16MXc6ij8LGd",
        "outputId": "c5ded45e-4bcc-447f-f72d-1eac415cf56c"
      },
      "execution_count": null,
      "outputs": [
        {
          "output_type": "display_data",
          "data": {
            "text/plain": [
              "<IPython.core.display.HTML object>"
            ],
            "text/html": [
              "\n",
              "     <input type=\"file\" id=\"files-92b3f699-4bcf-4aeb-af42-0457d63ddaa3\" name=\"files[]\" multiple disabled\n",
              "        style=\"border:none\" />\n",
              "     <output id=\"result-92b3f699-4bcf-4aeb-af42-0457d63ddaa3\">\n",
              "      Upload widget is only available when the cell has been executed in the\n",
              "      current browser session. Please rerun this cell to enable.\n",
              "      </output>\n",
              "      <script>// Copyright 2017 Google LLC\n",
              "//\n",
              "// Licensed under the Apache License, Version 2.0 (the \"License\");\n",
              "// you may not use this file except in compliance with the License.\n",
              "// You may obtain a copy of the License at\n",
              "//\n",
              "//      http://www.apache.org/licenses/LICENSE-2.0\n",
              "//\n",
              "// Unless required by applicable law or agreed to in writing, software\n",
              "// distributed under the License is distributed on an \"AS IS\" BASIS,\n",
              "// WITHOUT WARRANTIES OR CONDITIONS OF ANY KIND, either express or implied.\n",
              "// See the License for the specific language governing permissions and\n",
              "// limitations under the License.\n",
              "\n",
              "/**\n",
              " * @fileoverview Helpers for google.colab Python module.\n",
              " */\n",
              "(function(scope) {\n",
              "function span(text, styleAttributes = {}) {\n",
              "  const element = document.createElement('span');\n",
              "  element.textContent = text;\n",
              "  for (const key of Object.keys(styleAttributes)) {\n",
              "    element.style[key] = styleAttributes[key];\n",
              "  }\n",
              "  return element;\n",
              "}\n",
              "\n",
              "// Max number of bytes which will be uploaded at a time.\n",
              "const MAX_PAYLOAD_SIZE = 100 * 1024;\n",
              "\n",
              "function _uploadFiles(inputId, outputId) {\n",
              "  const steps = uploadFilesStep(inputId, outputId);\n",
              "  const outputElement = document.getElementById(outputId);\n",
              "  // Cache steps on the outputElement to make it available for the next call\n",
              "  // to uploadFilesContinue from Python.\n",
              "  outputElement.steps = steps;\n",
              "\n",
              "  return _uploadFilesContinue(outputId);\n",
              "}\n",
              "\n",
              "// This is roughly an async generator (not supported in the browser yet),\n",
              "// where there are multiple asynchronous steps and the Python side is going\n",
              "// to poll for completion of each step.\n",
              "// This uses a Promise to block the python side on completion of each step,\n",
              "// then passes the result of the previous step as the input to the next step.\n",
              "function _uploadFilesContinue(outputId) {\n",
              "  const outputElement = document.getElementById(outputId);\n",
              "  const steps = outputElement.steps;\n",
              "\n",
              "  const next = steps.next(outputElement.lastPromiseValue);\n",
              "  return Promise.resolve(next.value.promise).then((value) => {\n",
              "    // Cache the last promise value to make it available to the next\n",
              "    // step of the generator.\n",
              "    outputElement.lastPromiseValue = value;\n",
              "    return next.value.response;\n",
              "  });\n",
              "}\n",
              "\n",
              "/**\n",
              " * Generator function which is called between each async step of the upload\n",
              " * process.\n",
              " * @param {string} inputId Element ID of the input file picker element.\n",
              " * @param {string} outputId Element ID of the output display.\n",
              " * @return {!Iterable<!Object>} Iterable of next steps.\n",
              " */\n",
              "function* uploadFilesStep(inputId, outputId) {\n",
              "  const inputElement = document.getElementById(inputId);\n",
              "  inputElement.disabled = false;\n",
              "\n",
              "  const outputElement = document.getElementById(outputId);\n",
              "  outputElement.innerHTML = '';\n",
              "\n",
              "  const pickedPromise = new Promise((resolve) => {\n",
              "    inputElement.addEventListener('change', (e) => {\n",
              "      resolve(e.target.files);\n",
              "    });\n",
              "  });\n",
              "\n",
              "  const cancel = document.createElement('button');\n",
              "  inputElement.parentElement.appendChild(cancel);\n",
              "  cancel.textContent = 'Cancel upload';\n",
              "  const cancelPromise = new Promise((resolve) => {\n",
              "    cancel.onclick = () => {\n",
              "      resolve(null);\n",
              "    };\n",
              "  });\n",
              "\n",
              "  // Wait for the user to pick the files.\n",
              "  const files = yield {\n",
              "    promise: Promise.race([pickedPromise, cancelPromise]),\n",
              "    response: {\n",
              "      action: 'starting',\n",
              "    }\n",
              "  };\n",
              "\n",
              "  cancel.remove();\n",
              "\n",
              "  // Disable the input element since further picks are not allowed.\n",
              "  inputElement.disabled = true;\n",
              "\n",
              "  if (!files) {\n",
              "    return {\n",
              "      response: {\n",
              "        action: 'complete',\n",
              "      }\n",
              "    };\n",
              "  }\n",
              "\n",
              "  for (const file of files) {\n",
              "    const li = document.createElement('li');\n",
              "    li.append(span(file.name, {fontWeight: 'bold'}));\n",
              "    li.append(span(\n",
              "        `(${file.type || 'n/a'}) - ${file.size} bytes, ` +\n",
              "        `last modified: ${\n",
              "            file.lastModifiedDate ? file.lastModifiedDate.toLocaleDateString() :\n",
              "                                    'n/a'} - `));\n",
              "    const percent = span('0% done');\n",
              "    li.appendChild(percent);\n",
              "\n",
              "    outputElement.appendChild(li);\n",
              "\n",
              "    const fileDataPromise = new Promise((resolve) => {\n",
              "      const reader = new FileReader();\n",
              "      reader.onload = (e) => {\n",
              "        resolve(e.target.result);\n",
              "      };\n",
              "      reader.readAsArrayBuffer(file);\n",
              "    });\n",
              "    // Wait for the data to be ready.\n",
              "    let fileData = yield {\n",
              "      promise: fileDataPromise,\n",
              "      response: {\n",
              "        action: 'continue',\n",
              "      }\n",
              "    };\n",
              "\n",
              "    // Use a chunked sending to avoid message size limits. See b/62115660.\n",
              "    let position = 0;\n",
              "    do {\n",
              "      const length = Math.min(fileData.byteLength - position, MAX_PAYLOAD_SIZE);\n",
              "      const chunk = new Uint8Array(fileData, position, length);\n",
              "      position += length;\n",
              "\n",
              "      const base64 = btoa(String.fromCharCode.apply(null, chunk));\n",
              "      yield {\n",
              "        response: {\n",
              "          action: 'append',\n",
              "          file: file.name,\n",
              "          data: base64,\n",
              "        },\n",
              "      };\n",
              "\n",
              "      let percentDone = fileData.byteLength === 0 ?\n",
              "          100 :\n",
              "          Math.round((position / fileData.byteLength) * 100);\n",
              "      percent.textContent = `${percentDone}% done`;\n",
              "\n",
              "    } while (position < fileData.byteLength);\n",
              "  }\n",
              "\n",
              "  // All done.\n",
              "  yield {\n",
              "    response: {\n",
              "      action: 'complete',\n",
              "    }\n",
              "  };\n",
              "}\n",
              "\n",
              "scope.google = scope.google || {};\n",
              "scope.google.colab = scope.google.colab || {};\n",
              "scope.google.colab._files = {\n",
              "  _uploadFiles,\n",
              "  _uploadFilesContinue,\n",
              "};\n",
              "})(self);\n",
              "</script> "
            ]
          },
          "metadata": {}
        },
        {
          "output_type": "stream",
          "name": "stdout",
          "text": [
            "Saving NSE-TATAGLOBAL11.csv to NSE-TATAGLOBAL11.csv\n"
          ]
        }
      ]
    },
    {
      "cell_type": "code",
      "source": [
        "import io\n",
        "stock= pd.read_csv(io.BytesIO(uploaded['NSE-TATAGLOBAL11.csv']))"
      ],
      "metadata": {
        "id": "4RD3KU6w8Vfk"
      },
      "execution_count": null,
      "outputs": []
    },
    {
      "cell_type": "markdown",
      "source": [
        "Inforation about the Dataset."
      ],
      "metadata": {
        "id": "vXaoQfzb8l5I"
      }
    },
    {
      "cell_type": "code",
      "source": [
        "stock.shape\n",
        "stock.info()\n",
        "stock.dtypes"
      ],
      "metadata": {
        "colab": {
          "base_uri": "https://localhost:8080/"
        },
        "id": "K585oj8l8ruK",
        "outputId": "16412e16-bad1-4f07-981d-d81509f9c89c"
      },
      "execution_count": null,
      "outputs": [
        {
          "output_type": "stream",
          "name": "stdout",
          "text": [
            "<class 'pandas.core.frame.DataFrame'>\n",
            "RangeIndex: 1235 entries, 0 to 1234\n",
            "Data columns (total 8 columns):\n",
            " #   Column                Non-Null Count  Dtype  \n",
            "---  ------                --------------  -----  \n",
            " 0   Date                  1235 non-null   object \n",
            " 1   Open                  1235 non-null   float64\n",
            " 2   High                  1235 non-null   float64\n",
            " 3   Low                   1235 non-null   float64\n",
            " 4   Last                  1235 non-null   float64\n",
            " 5   Close                 1235 non-null   float64\n",
            " 6   Total Trade Quantity  1235 non-null   float64\n",
            " 7   Turnover (Lacs)       1235 non-null   float64\n",
            "dtypes: float64(7), object(1)\n",
            "memory usage: 77.3+ KB\n"
          ]
        },
        {
          "output_type": "execute_result",
          "data": {
            "text/plain": [
              "Date                     object\n",
              "Open                    float64\n",
              "High                    float64\n",
              "Low                     float64\n",
              "Last                    float64\n",
              "Close                   float64\n",
              "Total Trade Quantity    float64\n",
              "Turnover (Lacs)         float64\n",
              "dtype: object"
            ]
          },
          "metadata": {},
          "execution_count": 7
        }
      ]
    },
    {
      "cell_type": "markdown",
      "source": [
        "Checking for the null values."
      ],
      "metadata": {
        "id": "Bf9MpjCS9hy2"
      }
    },
    {
      "cell_type": "code",
      "source": [
        "missing_value_count=stock.isnull().sum()\n",
        "total_cells=np.product(stock.shape)\n",
        "total_missing=missing_value_count.sum()\n",
        "percentage_missing=(total_missing/total_cells)*100\n",
        "print(percentage_missing)\n"
      ],
      "metadata": {
        "colab": {
          "base_uri": "https://localhost:8080/"
        },
        "id": "TULcFHcl9mZs",
        "outputId": "05fbce6c-95e4-486e-f318-87fd5758e6af"
      },
      "execution_count": null,
      "outputs": [
        {
          "output_type": "stream",
          "name": "stdout",
          "text": [
            "0.0\n"
          ]
        }
      ]
    },
    {
      "cell_type": "code",
      "source": [
        "stock=stock[::-1]\n",
        "stock"
      ],
      "metadata": {
        "colab": {
          "base_uri": "https://localhost:8080/",
          "height": 423
        },
        "id": "f0fTkfJQ-g30",
        "outputId": "645561d4-f2eb-4151-c6a5-557d6e525d1b"
      },
      "execution_count": null,
      "outputs": [
        {
          "output_type": "execute_result",
          "data": {
            "text/plain": [
              "            Date    Open    High     Low    Last   Close  \\\n",
              "1234  2013-10-08  157.00  157.80  155.20  155.80  155.80   \n",
              "1233  2013-10-09  155.70  158.20  154.15  155.30  155.55   \n",
              "1232  2013-10-10  156.00  160.80  155.85  160.30  160.15   \n",
              "1231  2013-10-11  161.15  163.45  159.00  159.80  160.05   \n",
              "1230  2013-10-14  160.85  161.45  157.70  159.30  159.45   \n",
              "...          ...     ...     ...     ...     ...     ...   \n",
              "4     2018-10-01  234.55  234.60  221.05  230.30  230.90   \n",
              "3     2018-10-03  230.00  237.50  225.75  226.45  227.60   \n",
              "2     2018-10-04  223.50  227.80  216.15  217.25  218.20   \n",
              "1     2018-10-05  217.00  218.60  205.90  210.25  209.20   \n",
              "0     2018-10-08  208.00  222.25  206.85  216.00  215.15   \n",
              "\n",
              "      Total Trade Quantity  Turnover (Lacs)  \n",
              "1234             1720413.0          2688.94  \n",
              "1233             2049580.0          3204.49  \n",
              "1232             3124853.0          4978.80  \n",
              "1231             1880046.0          3030.76  \n",
              "1230             1281419.0          2039.09  \n",
              "...                    ...              ...  \n",
              "4                1534749.0          3486.05  \n",
              "3                1708590.0          3960.27  \n",
              "2                1728786.0          3815.79  \n",
              "1                3519515.0          7407.06  \n",
              "0                4642146.0         10062.83  \n",
              "\n",
              "[1235 rows x 8 columns]"
            ],
            "text/html": [
              "\n",
              "  <div id=\"df-bee16d51-7fc3-4c7a-b301-c90650f9b3f6\">\n",
              "    <div class=\"colab-df-container\">\n",
              "      <div>\n",
              "<style scoped>\n",
              "    .dataframe tbody tr th:only-of-type {\n",
              "        vertical-align: middle;\n",
              "    }\n",
              "\n",
              "    .dataframe tbody tr th {\n",
              "        vertical-align: top;\n",
              "    }\n",
              "\n",
              "    .dataframe thead th {\n",
              "        text-align: right;\n",
              "    }\n",
              "</style>\n",
              "<table border=\"1\" class=\"dataframe\">\n",
              "  <thead>\n",
              "    <tr style=\"text-align: right;\">\n",
              "      <th></th>\n",
              "      <th>Date</th>\n",
              "      <th>Open</th>\n",
              "      <th>High</th>\n",
              "      <th>Low</th>\n",
              "      <th>Last</th>\n",
              "      <th>Close</th>\n",
              "      <th>Total Trade Quantity</th>\n",
              "      <th>Turnover (Lacs)</th>\n",
              "    </tr>\n",
              "  </thead>\n",
              "  <tbody>\n",
              "    <tr>\n",
              "      <th>1234</th>\n",
              "      <td>2013-10-08</td>\n",
              "      <td>157.00</td>\n",
              "      <td>157.80</td>\n",
              "      <td>155.20</td>\n",
              "      <td>155.80</td>\n",
              "      <td>155.80</td>\n",
              "      <td>1720413.0</td>\n",
              "      <td>2688.94</td>\n",
              "    </tr>\n",
              "    <tr>\n",
              "      <th>1233</th>\n",
              "      <td>2013-10-09</td>\n",
              "      <td>155.70</td>\n",
              "      <td>158.20</td>\n",
              "      <td>154.15</td>\n",
              "      <td>155.30</td>\n",
              "      <td>155.55</td>\n",
              "      <td>2049580.0</td>\n",
              "      <td>3204.49</td>\n",
              "    </tr>\n",
              "    <tr>\n",
              "      <th>1232</th>\n",
              "      <td>2013-10-10</td>\n",
              "      <td>156.00</td>\n",
              "      <td>160.80</td>\n",
              "      <td>155.85</td>\n",
              "      <td>160.30</td>\n",
              "      <td>160.15</td>\n",
              "      <td>3124853.0</td>\n",
              "      <td>4978.80</td>\n",
              "    </tr>\n",
              "    <tr>\n",
              "      <th>1231</th>\n",
              "      <td>2013-10-11</td>\n",
              "      <td>161.15</td>\n",
              "      <td>163.45</td>\n",
              "      <td>159.00</td>\n",
              "      <td>159.80</td>\n",
              "      <td>160.05</td>\n",
              "      <td>1880046.0</td>\n",
              "      <td>3030.76</td>\n",
              "    </tr>\n",
              "    <tr>\n",
              "      <th>1230</th>\n",
              "      <td>2013-10-14</td>\n",
              "      <td>160.85</td>\n",
              "      <td>161.45</td>\n",
              "      <td>157.70</td>\n",
              "      <td>159.30</td>\n",
              "      <td>159.45</td>\n",
              "      <td>1281419.0</td>\n",
              "      <td>2039.09</td>\n",
              "    </tr>\n",
              "    <tr>\n",
              "      <th>...</th>\n",
              "      <td>...</td>\n",
              "      <td>...</td>\n",
              "      <td>...</td>\n",
              "      <td>...</td>\n",
              "      <td>...</td>\n",
              "      <td>...</td>\n",
              "      <td>...</td>\n",
              "      <td>...</td>\n",
              "    </tr>\n",
              "    <tr>\n",
              "      <th>4</th>\n",
              "      <td>2018-10-01</td>\n",
              "      <td>234.55</td>\n",
              "      <td>234.60</td>\n",
              "      <td>221.05</td>\n",
              "      <td>230.30</td>\n",
              "      <td>230.90</td>\n",
              "      <td>1534749.0</td>\n",
              "      <td>3486.05</td>\n",
              "    </tr>\n",
              "    <tr>\n",
              "      <th>3</th>\n",
              "      <td>2018-10-03</td>\n",
              "      <td>230.00</td>\n",
              "      <td>237.50</td>\n",
              "      <td>225.75</td>\n",
              "      <td>226.45</td>\n",
              "      <td>227.60</td>\n",
              "      <td>1708590.0</td>\n",
              "      <td>3960.27</td>\n",
              "    </tr>\n",
              "    <tr>\n",
              "      <th>2</th>\n",
              "      <td>2018-10-04</td>\n",
              "      <td>223.50</td>\n",
              "      <td>227.80</td>\n",
              "      <td>216.15</td>\n",
              "      <td>217.25</td>\n",
              "      <td>218.20</td>\n",
              "      <td>1728786.0</td>\n",
              "      <td>3815.79</td>\n",
              "    </tr>\n",
              "    <tr>\n",
              "      <th>1</th>\n",
              "      <td>2018-10-05</td>\n",
              "      <td>217.00</td>\n",
              "      <td>218.60</td>\n",
              "      <td>205.90</td>\n",
              "      <td>210.25</td>\n",
              "      <td>209.20</td>\n",
              "      <td>3519515.0</td>\n",
              "      <td>7407.06</td>\n",
              "    </tr>\n",
              "    <tr>\n",
              "      <th>0</th>\n",
              "      <td>2018-10-08</td>\n",
              "      <td>208.00</td>\n",
              "      <td>222.25</td>\n",
              "      <td>206.85</td>\n",
              "      <td>216.00</td>\n",
              "      <td>215.15</td>\n",
              "      <td>4642146.0</td>\n",
              "      <td>10062.83</td>\n",
              "    </tr>\n",
              "  </tbody>\n",
              "</table>\n",
              "<p>1235 rows × 8 columns</p>\n",
              "</div>\n",
              "      <button class=\"colab-df-convert\" onclick=\"convertToInteractive('df-bee16d51-7fc3-4c7a-b301-c90650f9b3f6')\"\n",
              "              title=\"Convert this dataframe to an interactive table.\"\n",
              "              style=\"display:none;\">\n",
              "        \n",
              "  <svg xmlns=\"http://www.w3.org/2000/svg\" height=\"24px\"viewBox=\"0 0 24 24\"\n",
              "       width=\"24px\">\n",
              "    <path d=\"M0 0h24v24H0V0z\" fill=\"none\"/>\n",
              "    <path d=\"M18.56 5.44l.94 2.06.94-2.06 2.06-.94-2.06-.94-.94-2.06-.94 2.06-2.06.94zm-11 1L8.5 8.5l.94-2.06 2.06-.94-2.06-.94L8.5 2.5l-.94 2.06-2.06.94zm10 10l.94 2.06.94-2.06 2.06-.94-2.06-.94-.94-2.06-.94 2.06-2.06.94z\"/><path d=\"M17.41 7.96l-1.37-1.37c-.4-.4-.92-.59-1.43-.59-.52 0-1.04.2-1.43.59L10.3 9.45l-7.72 7.72c-.78.78-.78 2.05 0 2.83L4 21.41c.39.39.9.59 1.41.59.51 0 1.02-.2 1.41-.59l7.78-7.78 2.81-2.81c.8-.78.8-2.07 0-2.86zM5.41 20L4 18.59l7.72-7.72 1.47 1.35L5.41 20z\"/>\n",
              "  </svg>\n",
              "      </button>\n",
              "      \n",
              "  <style>\n",
              "    .colab-df-container {\n",
              "      display:flex;\n",
              "      flex-wrap:wrap;\n",
              "      gap: 12px;\n",
              "    }\n",
              "\n",
              "    .colab-df-convert {\n",
              "      background-color: #E8F0FE;\n",
              "      border: none;\n",
              "      border-radius: 50%;\n",
              "      cursor: pointer;\n",
              "      display: none;\n",
              "      fill: #1967D2;\n",
              "      height: 32px;\n",
              "      padding: 0 0 0 0;\n",
              "      width: 32px;\n",
              "    }\n",
              "\n",
              "    .colab-df-convert:hover {\n",
              "      background-color: #E2EBFA;\n",
              "      box-shadow: 0px 1px 2px rgba(60, 64, 67, 0.3), 0px 1px 3px 1px rgba(60, 64, 67, 0.15);\n",
              "      fill: #174EA6;\n",
              "    }\n",
              "\n",
              "    [theme=dark] .colab-df-convert {\n",
              "      background-color: #3B4455;\n",
              "      fill: #D2E3FC;\n",
              "    }\n",
              "\n",
              "    [theme=dark] .colab-df-convert:hover {\n",
              "      background-color: #434B5C;\n",
              "      box-shadow: 0px 1px 3px 1px rgba(0, 0, 0, 0.15);\n",
              "      filter: drop-shadow(0px 1px 2px rgba(0, 0, 0, 0.3));\n",
              "      fill: #FFFFFF;\n",
              "    }\n",
              "  </style>\n",
              "\n",
              "      <script>\n",
              "        const buttonEl =\n",
              "          document.querySelector('#df-bee16d51-7fc3-4c7a-b301-c90650f9b3f6 button.colab-df-convert');\n",
              "        buttonEl.style.display =\n",
              "          google.colab.kernel.accessAllowed ? 'block' : 'none';\n",
              "\n",
              "        async function convertToInteractive(key) {\n",
              "          const element = document.querySelector('#df-bee16d51-7fc3-4c7a-b301-c90650f9b3f6');\n",
              "          const dataTable =\n",
              "            await google.colab.kernel.invokeFunction('convertToInteractive',\n",
              "                                                     [key], {});\n",
              "          if (!dataTable) return;\n",
              "\n",
              "          const docLinkHtml = 'Like what you see? Visit the ' +\n",
              "            '<a target=\"_blank\" href=https://colab.research.google.com/notebooks/data_table.ipynb>data table notebook</a>'\n",
              "            + ' to learn more about interactive tables.';\n",
              "          element.innerHTML = '';\n",
              "          dataTable['output_type'] = 'display_data';\n",
              "          await google.colab.output.renderOutput(dataTable, element);\n",
              "          const docLink = document.createElement('div');\n",
              "          docLink.innerHTML = docLinkHtml;\n",
              "          element.appendChild(docLink);\n",
              "        }\n",
              "      </script>\n",
              "    </div>\n",
              "  </div>\n",
              "  "
            ]
          },
          "metadata": {},
          "execution_count": 9
        }
      ]
    },
    {
      "cell_type": "code",
      "source": [
        "stock.describe()"
      ],
      "metadata": {
        "colab": {
          "base_uri": "https://localhost:8080/",
          "height": 300
        },
        "id": "3YOPFLkp-p2E",
        "outputId": "4cf88843-65d9-4a1e-b435-f45cc61bff64"
      },
      "execution_count": null,
      "outputs": [
        {
          "output_type": "execute_result",
          "data": {
            "text/plain": [
              "              Open         High          Low         Last        Close  \\\n",
              "count  1235.000000  1235.000000  1235.000000  1235.000000  1235.000000   \n",
              "mean    168.954858   171.429069   166.402308   168.736356   168.731053   \n",
              "std      51.499145    52.436761    50.542919    51.587384    51.544928   \n",
              "min     103.000000   104.600000   100.000000   102.600000   102.650000   \n",
              "25%     137.550000   138.925000   135.250000   137.175000   137.225000   \n",
              "50%     151.500000   153.250000   149.500000   151.200000   151.100000   \n",
              "75%     169.000000   172.325000   166.700000   169.100000   169.500000   \n",
              "max     327.700000   328.750000   321.650000   325.950000   325.750000   \n",
              "\n",
              "       Total Trade Quantity  Turnover (Lacs)  \n",
              "count          1.235000e+03      1235.000000  \n",
              "mean           2.604151e+06      4843.166502  \n",
              "std            2.277028e+06      5348.919832  \n",
              "min            1.001800e+05       128.040000  \n",
              "25%            1.284482e+06      1801.035000  \n",
              "50%            1.964885e+06      3068.510000  \n",
              "75%            3.095788e+06      5852.600000  \n",
              "max            2.919102e+07     55755.080000  "
            ],
            "text/html": [
              "\n",
              "  <div id=\"df-88803f92-02b0-4bf3-8333-7bf4928a5115\">\n",
              "    <div class=\"colab-df-container\">\n",
              "      <div>\n",
              "<style scoped>\n",
              "    .dataframe tbody tr th:only-of-type {\n",
              "        vertical-align: middle;\n",
              "    }\n",
              "\n",
              "    .dataframe tbody tr th {\n",
              "        vertical-align: top;\n",
              "    }\n",
              "\n",
              "    .dataframe thead th {\n",
              "        text-align: right;\n",
              "    }\n",
              "</style>\n",
              "<table border=\"1\" class=\"dataframe\">\n",
              "  <thead>\n",
              "    <tr style=\"text-align: right;\">\n",
              "      <th></th>\n",
              "      <th>Open</th>\n",
              "      <th>High</th>\n",
              "      <th>Low</th>\n",
              "      <th>Last</th>\n",
              "      <th>Close</th>\n",
              "      <th>Total Trade Quantity</th>\n",
              "      <th>Turnover (Lacs)</th>\n",
              "    </tr>\n",
              "  </thead>\n",
              "  <tbody>\n",
              "    <tr>\n",
              "      <th>count</th>\n",
              "      <td>1235.000000</td>\n",
              "      <td>1235.000000</td>\n",
              "      <td>1235.000000</td>\n",
              "      <td>1235.000000</td>\n",
              "      <td>1235.000000</td>\n",
              "      <td>1.235000e+03</td>\n",
              "      <td>1235.000000</td>\n",
              "    </tr>\n",
              "    <tr>\n",
              "      <th>mean</th>\n",
              "      <td>168.954858</td>\n",
              "      <td>171.429069</td>\n",
              "      <td>166.402308</td>\n",
              "      <td>168.736356</td>\n",
              "      <td>168.731053</td>\n",
              "      <td>2.604151e+06</td>\n",
              "      <td>4843.166502</td>\n",
              "    </tr>\n",
              "    <tr>\n",
              "      <th>std</th>\n",
              "      <td>51.499145</td>\n",
              "      <td>52.436761</td>\n",
              "      <td>50.542919</td>\n",
              "      <td>51.587384</td>\n",
              "      <td>51.544928</td>\n",
              "      <td>2.277028e+06</td>\n",
              "      <td>5348.919832</td>\n",
              "    </tr>\n",
              "    <tr>\n",
              "      <th>min</th>\n",
              "      <td>103.000000</td>\n",
              "      <td>104.600000</td>\n",
              "      <td>100.000000</td>\n",
              "      <td>102.600000</td>\n",
              "      <td>102.650000</td>\n",
              "      <td>1.001800e+05</td>\n",
              "      <td>128.040000</td>\n",
              "    </tr>\n",
              "    <tr>\n",
              "      <th>25%</th>\n",
              "      <td>137.550000</td>\n",
              "      <td>138.925000</td>\n",
              "      <td>135.250000</td>\n",
              "      <td>137.175000</td>\n",
              "      <td>137.225000</td>\n",
              "      <td>1.284482e+06</td>\n",
              "      <td>1801.035000</td>\n",
              "    </tr>\n",
              "    <tr>\n",
              "      <th>50%</th>\n",
              "      <td>151.500000</td>\n",
              "      <td>153.250000</td>\n",
              "      <td>149.500000</td>\n",
              "      <td>151.200000</td>\n",
              "      <td>151.100000</td>\n",
              "      <td>1.964885e+06</td>\n",
              "      <td>3068.510000</td>\n",
              "    </tr>\n",
              "    <tr>\n",
              "      <th>75%</th>\n",
              "      <td>169.000000</td>\n",
              "      <td>172.325000</td>\n",
              "      <td>166.700000</td>\n",
              "      <td>169.100000</td>\n",
              "      <td>169.500000</td>\n",
              "      <td>3.095788e+06</td>\n",
              "      <td>5852.600000</td>\n",
              "    </tr>\n",
              "    <tr>\n",
              "      <th>max</th>\n",
              "      <td>327.700000</td>\n",
              "      <td>328.750000</td>\n",
              "      <td>321.650000</td>\n",
              "      <td>325.950000</td>\n",
              "      <td>325.750000</td>\n",
              "      <td>2.919102e+07</td>\n",
              "      <td>55755.080000</td>\n",
              "    </tr>\n",
              "  </tbody>\n",
              "</table>\n",
              "</div>\n",
              "      <button class=\"colab-df-convert\" onclick=\"convertToInteractive('df-88803f92-02b0-4bf3-8333-7bf4928a5115')\"\n",
              "              title=\"Convert this dataframe to an interactive table.\"\n",
              "              style=\"display:none;\">\n",
              "        \n",
              "  <svg xmlns=\"http://www.w3.org/2000/svg\" height=\"24px\"viewBox=\"0 0 24 24\"\n",
              "       width=\"24px\">\n",
              "    <path d=\"M0 0h24v24H0V0z\" fill=\"none\"/>\n",
              "    <path d=\"M18.56 5.44l.94 2.06.94-2.06 2.06-.94-2.06-.94-.94-2.06-.94 2.06-2.06.94zm-11 1L8.5 8.5l.94-2.06 2.06-.94-2.06-.94L8.5 2.5l-.94 2.06-2.06.94zm10 10l.94 2.06.94-2.06 2.06-.94-2.06-.94-.94-2.06-.94 2.06-2.06.94z\"/><path d=\"M17.41 7.96l-1.37-1.37c-.4-.4-.92-.59-1.43-.59-.52 0-1.04.2-1.43.59L10.3 9.45l-7.72 7.72c-.78.78-.78 2.05 0 2.83L4 21.41c.39.39.9.59 1.41.59.51 0 1.02-.2 1.41-.59l7.78-7.78 2.81-2.81c.8-.78.8-2.07 0-2.86zM5.41 20L4 18.59l7.72-7.72 1.47 1.35L5.41 20z\"/>\n",
              "  </svg>\n",
              "      </button>\n",
              "      \n",
              "  <style>\n",
              "    .colab-df-container {\n",
              "      display:flex;\n",
              "      flex-wrap:wrap;\n",
              "      gap: 12px;\n",
              "    }\n",
              "\n",
              "    .colab-df-convert {\n",
              "      background-color: #E8F0FE;\n",
              "      border: none;\n",
              "      border-radius: 50%;\n",
              "      cursor: pointer;\n",
              "      display: none;\n",
              "      fill: #1967D2;\n",
              "      height: 32px;\n",
              "      padding: 0 0 0 0;\n",
              "      width: 32px;\n",
              "    }\n",
              "\n",
              "    .colab-df-convert:hover {\n",
              "      background-color: #E2EBFA;\n",
              "      box-shadow: 0px 1px 2px rgba(60, 64, 67, 0.3), 0px 1px 3px 1px rgba(60, 64, 67, 0.15);\n",
              "      fill: #174EA6;\n",
              "    }\n",
              "\n",
              "    [theme=dark] .colab-df-convert {\n",
              "      background-color: #3B4455;\n",
              "      fill: #D2E3FC;\n",
              "    }\n",
              "\n",
              "    [theme=dark] .colab-df-convert:hover {\n",
              "      background-color: #434B5C;\n",
              "      box-shadow: 0px 1px 3px 1px rgba(0, 0, 0, 0.15);\n",
              "      filter: drop-shadow(0px 1px 2px rgba(0, 0, 0, 0.3));\n",
              "      fill: #FFFFFF;\n",
              "    }\n",
              "  </style>\n",
              "\n",
              "      <script>\n",
              "        const buttonEl =\n",
              "          document.querySelector('#df-88803f92-02b0-4bf3-8333-7bf4928a5115 button.colab-df-convert');\n",
              "        buttonEl.style.display =\n",
              "          google.colab.kernel.accessAllowed ? 'block' : 'none';\n",
              "\n",
              "        async function convertToInteractive(key) {\n",
              "          const element = document.querySelector('#df-88803f92-02b0-4bf3-8333-7bf4928a5115');\n",
              "          const dataTable =\n",
              "            await google.colab.kernel.invokeFunction('convertToInteractive',\n",
              "                                                     [key], {});\n",
              "          if (!dataTable) return;\n",
              "\n",
              "          const docLinkHtml = 'Like what you see? Visit the ' +\n",
              "            '<a target=\"_blank\" href=https://colab.research.google.com/notebooks/data_table.ipynb>data table notebook</a>'\n",
              "            + ' to learn more about interactive tables.';\n",
              "          element.innerHTML = '';\n",
              "          dataTable['output_type'] = 'display_data';\n",
              "          await google.colab.output.renderOutput(dataTable, element);\n",
              "          const docLink = document.createElement('div');\n",
              "          docLink.innerHTML = docLinkHtml;\n",
              "          element.appendChild(docLink);\n",
              "        }\n",
              "      </script>\n",
              "    </div>\n",
              "  </div>\n",
              "  "
            ]
          },
          "metadata": {},
          "execution_count": 10
        }
      ]
    },
    {
      "cell_type": "markdown",
      "source": [
        "Heatmap Generation"
      ],
      "metadata": {
        "id": "-7W43msp-vJ-"
      }
    },
    {
      "cell_type": "code",
      "source": [
        "import matplotlib.pyplot as plt\n",
        "import seaborn as sns\n",
        "sns.heatmap(stock.corr(),annot=True)\n",
        "plt.show()"
      ],
      "metadata": {
        "colab": {
          "base_uri": "https://localhost:8080/",
          "height": 359
        },
        "id": "jyq_m2jZ-zCz",
        "outputId": "0eaa50ef-9c3c-4076-9ad4-b9261566c0d8"
      },
      "execution_count": null,
      "outputs": [
        {
          "output_type": "display_data",
          "data": {
            "text/plain": [
              "<Figure size 432x288 with 2 Axes>"
            ],
            "image/png": "[encoded data removed]"
          },
          "metadata": {
            "needs_background": "light"
          }
        }
      ]
    },
    {
      "cell_type": "code",
      "source": [
        "stock_high=stock.reset_index()['High']\n",
        "stock_high"
      ],
      "metadata": {
        "colab": {
          "base_uri": "https://localhost:8080/"
        },
        "id": "4zALjPYU_H4f",
        "outputId": "20f21bac-c904-433e-c6af-70ae327eec7b"
      },
      "execution_count": null,
      "outputs": [
        {
          "output_type": "execute_result",
          "data": {
            "text/plain": [
              "0       157.80\n",
              "1       158.20\n",
              "2       160.80\n",
              "3       163.45\n",
              "4       161.45\n",
              "         ...  \n",
              "1230    234.60\n",
              "1231    237.50\n",
              "1232    227.80\n",
              "1233    218.60\n",
              "1234    222.25\n",
              "Name: High, Length: 1235, dtype: float64"
            ]
          },
          "metadata": {},
          "execution_count": 12
        }
      ]
    },
    {
      "cell_type": "code",
      "source": [
        "plt.plot(stock_high)\n",
        "plt.show()"
      ],
      "metadata": {
        "colab": {
          "base_uri": "https://localhost:8080/",
          "height": 265
        },
        "id": "bjGVufD4_XKi",
        "outputId": "4dfab324-bf90-4a47-8c2c-c4e6e73dd05d"
      },
      "execution_count": null,
      "outputs": [
        {
          "output_type": "display_data",
          "data": {
            "text/plain": [
              "<Figure size 432x288 with 1 Axes>"
            ],
            "image/png": "[encoded data removed]"
          },
          "metadata": {
            "needs_background": "light"
          }
        }
      ]
    },
    {
      "cell_type": "markdown",
      "source": [
        "Data Preprocessing"
      ],
      "metadata": {
        "id": "7RBLn2Jp_iSZ"
      }
    },
    {
      "cell_type": "code",
      "source": [
        "from sklearn.preprocessing import MinMaxScaler\n",
        "scaler=MinMaxScaler()\n",
        "stock_high=scaler.fit_transform(stock_high.values.reshape(-1,1))\n",
        "stock_high"
      ],
      "metadata": {
        "colab": {
          "base_uri": "https://localhost:8080/"
        },
        "id": "qUvrlki1_gC6",
        "outputId": "6cdbef7c-27b4-4aeb-edca-9746a0758f69"
      },
      "execution_count": null,
      "outputs": [
        {
          "output_type": "execute_result",
          "data": {
            "text/plain": [
              "array([[0.23734107],\n",
              "       [0.23912559],\n",
              "       [0.25072496],\n",
              "       ...,\n",
              "       [0.54963194],\n",
              "       [0.508588  ],\n",
              "       [0.52487174]])"
            ]
          },
          "metadata": {},
          "execution_count": 14
        }
      ]
    },
    {
      "cell_type": "markdown",
      "source": [
        "Splitting the Training and Teasting Data"
      ],
      "metadata": {
        "id": "A4iahYMYAHCh"
      }
    },
    {
      "cell_type": "code",
      "source": [
        "train_size=int(len(stock_high)*0.8)\n",
        "test_size=len(stock_high)-train_size\n",
        "train_size,test_size"
      ],
      "metadata": {
        "colab": {
          "base_uri": "https://localhost:8080/"
        },
        "id": "3LXmnL0SAMmb",
        "outputId": "7e061a58-c0cb-4946-f13b-4b16a4a985b3"
      },
      "execution_count": null,
      "outputs": [
        {
          "output_type": "execute_result",
          "data": {
            "text/plain": [
              "(988, 247)"
            ]
          },
          "metadata": {},
          "execution_count": 17
        }
      ]
    },
    {
      "cell_type": "code",
      "source": [
        "train_data,test_data=stock_high[:train_size],stock_high[train_size::1]\n",
        "train_data.shape"
      ],
      "metadata": {
        "colab": {
          "base_uri": "https://localhost:8080/"
        },
        "id": "0MVVm49DAqbS",
        "outputId": "6d1b3a95-929f-412b-f199-481d9d541510"
      },
      "execution_count": null,
      "outputs": [
        {
          "output_type": "execute_result",
          "data": {
            "text/plain": [
              "(988, 1)"
            ]
          },
          "metadata": {},
          "execution_count": 23
        }
      ]
    },
    {
      "cell_type": "code",
      "source": [
        "def create_data(data,time_step):\n",
        "  X_data,Y_data=[],[]\n",
        "  for i in range(len(data)-time_step-1):\n",
        "    X_data.append(data[i:i+time_step,0])\n",
        "    Y_data.append(data[i+time_step,0])\n",
        "  return np.array(X_data),np.array(Y_data)"
      ],
      "metadata": {
        "id": "hB6z0LrKBCwY"
      },
      "execution_count": null,
      "outputs": []
    },
    {
      "cell_type": "code",
      "source": [
        "time_step=100\n",
        "X_train,Y_train=create_data(train_data,time_step)\n",
        "X_test,Y_test=create_data(test_data,time_step)"
      ],
      "metadata": {
        "id": "I3vrLnkDCIN2"
      },
      "execution_count": null,
      "outputs": []
    },
    {
      "cell_type": "code",
      "source": [
        "X_train=X_train.reshape(X_train.shape[0],X_train.shape[1],1)\n",
        "X_test=X_test.reshape(X_test.shape[0],X_test.shape[1],1)\n",
        "X_train.shape,Y_train.shape"
      ],
      "metadata": {
        "colab": {
          "base_uri": "https://localhost:8080/"
        },
        "id": "wuJcRtFLDWxq",
        "outputId": "d94ed8ea-692a-4b4f-9b82-800fe03f7509"
      },
      "execution_count": null,
      "outputs": [
        {
          "output_type": "execute_result",
          "data": {
            "text/plain": [
              "((887, 100, 1), (887,))"
            ]
          },
          "metadata": {},
          "execution_count": 28
        }
      ]
    },
    {
      "cell_type": "markdown",
      "source": [
        "LSTM Model Creation"
      ],
      "metadata": {
        "id": "G0ni9NFbGv-x"
      }
    },
    {
      "cell_type": "code",
      "source": [
        "import tensorflow as tf\n",
        "from tensorflow.python.keras.models import Sequential\n",
        "from tensorflow.python.keras.layers import Dense,LSTM\n",
        "model=Sequential()\n",
        "model.add(LSTM(50,return_sequences=True,input_shape=(100,1)))\n",
        "model.add(LSTM(50,return_sequences=True))\n",
        "model.add(LSTM(50))\n",
        "model.add(Dense(1))\n",
        "model.compile(loss='mean_squared_error',optimizer='adam')\n",
        "model.summary()"
      ],
      "metadata": {
        "colab": {
          "base_uri": "https://localhost:8080/"
        },
        "id": "I3_ueUKhG0XM",
        "outputId": "77ceff85-03f7-4b38-9621-6dddf131e191"
      },
      "execution_count": null,
      "outputs": [
        {
          "output_type": "stream",
          "name": "stdout",
          "text": [
            "Model: \"sequential\"\n",
            "_________________________________________________________________\n",
            "Layer (type)                 Output Shape              Param #   \n",
            "=================================================================\n",
            "lstm (LSTM)                  (None, 100, 50)           10400     \n",
            "_________________________________________________________________\n",
            "lstm_1 (LSTM)                (None, 100, 50)           20200     \n",
            "_________________________________________________________________\n",
            "lstm_2 (LSTM)                (None, 50)                20200     \n",
            "_________________________________________________________________\n",
            "dense (Dense)                (None, 1)                 51        \n",
            "=================================================================\n",
            "Total params: 50,851\n",
            "Trainable params: 50,851\n",
            "Non-trainable params: 0\n",
            "_________________________________________________________________\n"
          ]
        }
      ]
    },
    {
      "cell_type": "code",
      "source": [
        "model.fit(X_train,Y_train,validation_data=(X_test,Y_test),epochs=100,batch_size=64,verbose=True)"
      ],
      "metadata": {
        "colab": {
          "base_uri": "https://localhost:8080/"
        },
        "id": "T0SMfRGSH-tS",
        "outputId": "77f1f594-b5ac-4f99-cd78-4e370d73c861"
      },
      "execution_count": null,
      "outputs": [
        {
          "output_type": "stream",
          "name": "stdout",
          "text": [
            "Epoch 1/100\n",
            "14/14 [==============================] - 20s 554ms/step - loss: 0.0127 - val_loss: 0.1221\n",
            "Epoch 2/100\n",
            "14/14 [==============================] - 7s 472ms/step - loss: 0.0039 - val_loss: 0.0204\n",
            "Epoch 3/100\n",
            "14/14 [==============================] - 8s 553ms/step - loss: 0.0024 - val_loss: 0.0067\n",
            "Epoch 4/100\n",
            "14/14 [==============================] - 6s 430ms/step - loss: 0.0013 - val_loss: 0.0166\n",
            "Epoch 5/100\n",
            "14/14 [==============================] - 9s 678ms/step - loss: 0.0011 - val_loss: 0.0160\n",
            "Epoch 6/100\n",
            "14/14 [==============================] - 13s 942ms/step - loss: 0.0010 - val_loss: 0.0053\n",
            "Epoch 7/100\n",
            "14/14 [==============================] - 11s 830ms/step - loss: 0.0010 - val_loss: 0.0110\n",
            "Epoch 8/100\n",
            "14/14 [==============================] - 15s 1s/step - loss: 9.7622e-04 - val_loss: 0.0114\n",
            "Epoch 9/100\n",
            "14/14 [==============================] - 11s 775ms/step - loss: 9.5219e-04 - val_loss: 0.0084\n",
            "Epoch 10/100\n",
            "14/14 [==============================] - 16s 1s/step - loss: 9.0052e-04 - val_loss: 0.0098\n",
            "Epoch 11/100\n",
            "14/14 [==============================] - 13s 920ms/step - loss: 8.7898e-04 - val_loss: 0.0066\n",
            "Epoch 12/100\n",
            "14/14 [==============================] - 12s 885ms/step - loss: 8.4567e-04 - val_loss: 0.0032\n",
            "Epoch 13/100\n",
            "14/14 [==============================] - 11s 794ms/step - loss: 8.2379e-04 - val_loss: 0.0050\n",
            "Epoch 14/100\n",
            "14/14 [==============================] - 15s 1s/step - loss: 7.8502e-04 - val_loss: 0.0039\n",
            "Epoch 15/100\n",
            "14/14 [==============================] - 13s 934ms/step - loss: 7.6580e-04 - val_loss: 0.0030\n",
            "Epoch 16/100\n",
            "14/14 [==============================] - 13s 938ms/step - loss: 7.4304e-04 - val_loss: 0.0036\n",
            "Epoch 17/100\n",
            "14/14 [==============================] - 13s 914ms/step - loss: 7.3266e-04 - val_loss: 0.0027\n",
            "Epoch 18/100\n",
            "14/14 [==============================] - 15s 1s/step - loss: 7.2346e-04 - val_loss: 0.0032\n",
            "Epoch 19/100\n",
            "14/14 [==============================] - 17s 1s/step - loss: 7.4197e-04 - val_loss: 0.0069\n",
            "Epoch 20/100\n",
            "14/14 [==============================] - 13s 912ms/step - loss: 7.1018e-04 - val_loss: 0.0024\n",
            "Epoch 21/100\n",
            "14/14 [==============================] - 16s 1s/step - loss: 6.5134e-04 - val_loss: 0.0033\n",
            "Epoch 22/100\n",
            "14/14 [==============================] - 14s 1s/step - loss: 6.5483e-04 - val_loss: 0.0026\n",
            "Epoch 23/100\n",
            "14/14 [==============================] - 14s 1s/step - loss: 6.3580e-04 - val_loss: 0.0035\n",
            "Epoch 24/100\n",
            "14/14 [==============================] - 15s 1s/step - loss: 6.1709e-04 - val_loss: 0.0020\n",
            "Epoch 25/100\n",
            "14/14 [==============================] - 10s 686ms/step - loss: 6.3060e-04 - val_loss: 0.0024\n",
            "Epoch 26/100\n",
            "14/14 [==============================] - 8s 543ms/step - loss: 6.4464e-04 - val_loss: 0.0051\n",
            "Epoch 27/100\n",
            "14/14 [==============================] - 10s 701ms/step - loss: 6.5408e-04 - val_loss: 0.0038\n",
            "Epoch 28/100\n",
            "14/14 [==============================] - 11s 742ms/step - loss: 5.6985e-04 - val_loss: 0.0018\n",
            "Epoch 29/100\n",
            "14/14 [==============================] - 10s 700ms/step - loss: 5.5044e-04 - val_loss: 0.0021\n",
            "Epoch 30/100\n",
            "14/14 [==============================] - 19s 1s/step - loss: 5.2145e-04 - val_loss: 0.0029\n",
            "Epoch 31/100\n",
            "14/14 [==============================] - 14s 1s/step - loss: 5.1605e-04 - val_loss: 0.0018\n",
            "Epoch 32/100\n",
            "14/14 [==============================] - 17s 1s/step - loss: 5.1631e-04 - val_loss: 0.0020\n",
            "Epoch 33/100\n",
            "14/14 [==============================] - 15s 1s/step - loss: 5.0024e-04 - val_loss: 0.0028\n",
            "Epoch 34/100\n",
            "14/14 [==============================] - 14s 1s/step - loss: 4.9263e-04 - val_loss: 0.0025\n",
            "Epoch 35/100\n",
            "14/14 [==============================] - 9s 563ms/step - loss: 4.8401e-04 - val_loss: 0.0033\n",
            "Epoch 36/100\n",
            "14/14 [==============================] - 8s 561ms/step - loss: 4.5965e-04 - val_loss: 0.0025\n",
            "Epoch 37/100\n",
            "14/14 [==============================] - 11s 796ms/step - loss: 4.5051e-04 - val_loss: 0.0019\n",
            "Epoch 38/100\n",
            "14/14 [==============================] - 9s 594ms/step - loss: 4.3671e-04 - val_loss: 0.0057\n",
            "Epoch 39/100\n",
            "14/14 [==============================] - 12s 848ms/step - loss: 4.3051e-04 - val_loss: 0.0025\n",
            "Epoch 40/100\n",
            "14/14 [==============================] - 12s 884ms/step - loss: 4.1772e-04 - val_loss: 0.0054\n",
            "Epoch 41/100\n",
            "14/14 [==============================] - 8s 556ms/step - loss: 4.4260e-04 - val_loss: 0.0027\n",
            "Epoch 42/100\n",
            "14/14 [==============================] - 6s 447ms/step - loss: 4.2623e-04 - val_loss: 0.0019\n",
            "Epoch 43/100\n",
            "14/14 [==============================] - 11s 786ms/step - loss: 4.0062e-04 - val_loss: 0.0039\n",
            "Epoch 44/100\n",
            "14/14 [==============================] - 12s 840ms/step - loss: 3.8917e-04 - val_loss: 0.0044\n",
            "Epoch 45/100\n",
            "14/14 [==============================] - 14s 1s/step - loss: 4.0085e-04 - val_loss: 0.0057\n",
            "Epoch 46/100\n",
            "14/14 [==============================] - 13s 929ms/step - loss: 4.6769e-04 - val_loss: 0.0036\n",
            "Epoch 47/100\n",
            "14/14 [==============================] - 15s 1s/step - loss: 3.8354e-04 - val_loss: 0.0013\n",
            "Epoch 48/100\n",
            "14/14 [==============================] - 13s 946ms/step - loss: 3.7933e-04 - val_loss: 0.0014\n",
            "Epoch 49/100\n",
            "14/14 [==============================] - 12s 848ms/step - loss: 3.5303e-04 - val_loss: 0.0030\n",
            "Epoch 50/100\n",
            "14/14 [==============================] - 13s 905ms/step - loss: 3.6174e-04 - val_loss: 0.0037\n",
            "Epoch 51/100\n",
            "14/14 [==============================] - 13s 930ms/step - loss: 3.4566e-04 - val_loss: 0.0028\n",
            "Epoch 52/100\n",
            "14/14 [==============================] - 12s 849ms/step - loss: 3.3471e-04 - val_loss: 0.0023\n",
            "Epoch 53/100\n",
            "14/14 [==============================] - 12s 887ms/step - loss: 3.2215e-04 - val_loss: 0.0017\n",
            "Epoch 54/100\n",
            "14/14 [==============================] - 11s 747ms/step - loss: 3.1765e-04 - val_loss: 0.0013\n",
            "Epoch 55/100\n",
            "14/14 [==============================] - 16s 1s/step - loss: 3.1459e-04 - val_loss: 0.0026\n",
            "Epoch 56/100\n",
            "14/14 [==============================] - 13s 900ms/step - loss: 3.1367e-04 - val_loss: 0.0011\n",
            "Epoch 57/100\n",
            "14/14 [==============================] - 12s 827ms/step - loss: 3.0594e-04 - val_loss: 0.0013\n",
            "Epoch 58/100\n",
            "14/14 [==============================] - 15s 1s/step - loss: 3.2703e-04 - val_loss: 9.3544e-04\n",
            "Epoch 59/100\n",
            "14/14 [==============================] - 13s 902ms/step - loss: 2.9627e-04 - val_loss: 8.5195e-04\n",
            "Epoch 60/100\n",
            "14/14 [==============================] - 11s 771ms/step - loss: 2.8189e-04 - val_loss: 8.5490e-04\n",
            "Epoch 61/100\n",
            "14/14 [==============================] - 7s 505ms/step - loss: 2.7889e-04 - val_loss: 0.0014\n",
            "Epoch 62/100\n",
            "14/14 [==============================] - 10s 765ms/step - loss: 2.6798e-04 - val_loss: 0.0013\n",
            "Epoch 63/100\n",
            "14/14 [==============================] - 13s 925ms/step - loss: 2.6892e-04 - val_loss: 0.0013\n",
            "Epoch 64/100\n",
            "14/14 [==============================] - 15s 1s/step - loss: 2.6219e-04 - val_loss: 0.0010\n",
            "Epoch 65/100\n",
            "14/14 [==============================] - 16s 1s/step - loss: 2.6287e-04 - val_loss: 0.0039\n",
            "Epoch 66/100\n",
            "14/14 [==============================] - 13s 972ms/step - loss: 3.4123e-04 - val_loss: 7.5714e-04\n",
            "Epoch 67/100\n",
            "14/14 [==============================] - 14s 992ms/step - loss: 3.5111e-04 - val_loss: 0.0021\n",
            "Epoch 68/100\n",
            "14/14 [==============================] - 13s 967ms/step - loss: 3.0788e-04 - val_loss: 7.6468e-04\n",
            "Epoch 69/100\n",
            "14/14 [==============================] - 13s 965ms/step - loss: 2.8105e-04 - val_loss: 8.8938e-04\n",
            "Epoch 70/100\n",
            "14/14 [==============================] - 14s 1s/step - loss: 2.7302e-04 - val_loss: 0.0010\n",
            "Epoch 71/100\n",
            "14/14 [==============================] - 13s 904ms/step - loss: 2.4577e-04 - val_loss: 7.0452e-04\n",
            "Epoch 72/100\n",
            "14/14 [==============================] - 13s 964ms/step - loss: 2.4014e-04 - val_loss: 6.9786e-04\n",
            "Epoch 73/100\n",
            "14/14 [==============================] - 12s 875ms/step - loss: 2.3840e-04 - val_loss: 9.0819e-04\n",
            "Epoch 74/100\n",
            "14/14 [==============================] - 16s 1s/step - loss: 2.3719e-04 - val_loss: 6.9247e-04\n",
            "Epoch 75/100\n",
            "14/14 [==============================] - 13s 936ms/step - loss: 2.3417e-04 - val_loss: 9.6879e-04\n",
            "Epoch 76/100\n",
            "14/14 [==============================] - 14s 989ms/step - loss: 2.3598e-04 - val_loss: 7.7388e-04\n",
            "Epoch 77/100\n",
            "14/14 [==============================] - 9s 645ms/step - loss: 2.2193e-04 - val_loss: 6.4242e-04\n",
            "Epoch 78/100\n",
            "14/14 [==============================] - 11s 819ms/step - loss: 2.2781e-04 - val_loss: 7.6260e-04\n",
            "Epoch 79/100\n",
            "14/14 [==============================] - 12s 897ms/step - loss: 2.1504e-04 - val_loss: 6.7678e-04\n",
            "Epoch 80/100\n",
            "14/14 [==============================] - 12s 866ms/step - loss: 2.2548e-04 - val_loss: 0.0010\n",
            "Epoch 81/100\n",
            "14/14 [==============================] - 12s 860ms/step - loss: 1.9910e-04 - val_loss: 0.0011\n",
            "Epoch 82/100\n",
            "14/14 [==============================] - 13s 939ms/step - loss: 2.2619e-04 - val_loss: 6.6151e-04\n",
            "Epoch 83/100\n",
            "14/14 [==============================] - 7s 447ms/step - loss: 2.1712e-04 - val_loss: 6.7617e-04\n",
            "Epoch 84/100\n",
            "14/14 [==============================] - 8s 545ms/step - loss: 2.3474e-04 - val_loss: 0.0022\n",
            "Epoch 85/100\n",
            "14/14 [==============================] - 6s 439ms/step - loss: 2.2804e-04 - val_loss: 7.9255e-04\n",
            "Epoch 86/100\n",
            "14/14 [==============================] - 8s 545ms/step - loss: 1.9518e-04 - val_loss: 9.5973e-04\n",
            "Epoch 87/100\n",
            "14/14 [==============================] - 6s 437ms/step - loss: 1.8770e-04 - val_loss: 6.1642e-04\n",
            "Epoch 88/100\n",
            "14/14 [==============================] - 8s 546ms/step - loss: 1.8210e-04 - val_loss: 8.0607e-04\n",
            "Epoch 89/100\n",
            "14/14 [==============================] - 6s 467ms/step - loss: 1.8448e-04 - val_loss: 7.8692e-04\n",
            "Epoch 90/100\n",
            "14/14 [==============================] - 7s 495ms/step - loss: 2.1277e-04 - val_loss: 7.6596e-04\n",
            "Epoch 91/100\n",
            "14/14 [==============================] - 7s 524ms/step - loss: 1.8059e-04 - val_loss: 6.5021e-04\n",
            "Epoch 92/100\n",
            "14/14 [==============================] - 7s 446ms/step - loss: 1.7422e-04 - val_loss: 5.6903e-04\n",
            "Epoch 93/100\n",
            "14/14 [==============================] - 8s 548ms/step - loss: 1.8576e-04 - val_loss: 5.5745e-04\n",
            "Epoch 94/100\n",
            "14/14 [==============================] - 6s 444ms/step - loss: 1.7620e-04 - val_loss: 7.2845e-04\n",
            "Epoch 95/100\n",
            "14/14 [==============================] - 8s 545ms/step - loss: 1.8570e-04 - val_loss: 6.6033e-04\n",
            "Epoch 96/100\n",
            "14/14 [==============================] - 6s 445ms/step - loss: 1.6817e-04 - val_loss: 7.5969e-04\n",
            "Epoch 97/100\n",
            "14/14 [==============================] - 8s 549ms/step - loss: 1.7038e-04 - val_loss: 6.0593e-04\n",
            "Epoch 98/100\n",
            "14/14 [==============================] - 6s 440ms/step - loss: 1.6824e-04 - val_loss: 6.0954e-04\n",
            "Epoch 99/100\n",
            "14/14 [==============================] - 7s 541ms/step - loss: 1.7121e-04 - val_loss: 7.0372e-04\n",
            "Epoch 100/100\n",
            "14/14 [==============================] - 6s 445ms/step - loss: 1.6636e-04 - val_loss: 0.0014\n"
          ]
        },
        {
          "output_type": "execute_result",
          "data": {
            "text/plain": [
              "<tensorflow.python.keras.callbacks.History at 0x7fc4845f3730>"
            ]
          },
          "metadata": {},
          "execution_count": 30
        }
      ]
    },
    {
      "cell_type": "markdown",
      "source": [
        "Model Prediction"
      ],
      "metadata": {
        "id": "c5WVEL7eIcx8"
      }
    },
    {
      "cell_type": "code",
      "source": [
        "train_prediction=model.predict(X_train)\n",
        "test_prediction=model.predict(X_test)"
      ],
      "metadata": {
        "id": "fg8UykM2IfUU"
      },
      "execution_count": null,
      "outputs": []
    },
    {
      "cell_type": "code",
      "source": [
        "from math import sqrt\n",
        "from sklearn.metrics import mean_squared_error\n",
        "train_error=sqrt(mean_squared_error(Y_train,train_prediction))\n",
        "test_error=sqrt(mean_squared_error(Y_test,test_prediction))\n",
        "train_error,test_error"
      ],
      "metadata": {
        "colab": {
          "base_uri": "https://localhost:8080/"
        },
        "id": "1B23PZtEI0YZ",
        "outputId": "5e4a7f86-1460-4e53-cf73-58c5c1f46dcc"
      },
      "execution_count": null,
      "outputs": [
        {
          "output_type": "execute_result",
          "data": {
            "text/plain": [
              "(0.013520262709250722, 0.03682571390383475)"
            ]
          },
          "metadata": {},
          "execution_count": 32
        }
      ]
    },
    {
      "cell_type": "code",
      "source": [
        "train_prediction=scaler.inverse_transform(train_prediction)\n",
        "test_prediction=scaler.inverse_transform(test_prediction)"
      ],
      "metadata": {
        "id": "65L3pn5YKJrn"
      },
      "execution_count": null,
      "outputs": []
    },
    {
      "cell_type": "code",
      "source": [
        "steps_back=100\n",
        "train_predictplot=np.empty_like(stock_high)\n",
        "train_predictplot[:,:]=np.nan\n",
        "train_predictplot[steps_back:len(train_prediction)+steps_back,:]=train_prediction\n",
        "\n",
        "test_predictplot=np.empty_like(stock_high)\n",
        "test_predictplot[:,:]=np.nan\n",
        "test_predictplot[len(train_prediction)+(steps_back*2)+1 :len(stock_high)-1,:]=test_prediction"
      ],
      "metadata": {
        "id": "CZqEICsBKKth"
      },
      "execution_count": null,
      "outputs": []
    },
    {
      "cell_type": "markdown",
      "source": [
        "Data Visualization"
      ],
      "metadata": {
        "id": "4Hw3goAJLTlg"
      }
    },
    {
      "cell_type": "code",
      "source": [
        "plt.plot(scaler.inverse_transform(stock_high))\n",
        "plt.plot(train_predictplot)\n",
        "plt.plot(test_predictplot)\n",
        "plt.legend(labels=['Total data','Trained data','Predicted data'])\n",
        "plt.show()"
      ],
      "metadata": {
        "colab": {
          "base_uri": "https://localhost:8080/",
          "height": 265
        },
        "id": "8s0io7HHLXHu",
        "outputId": "a2ce425c-013b-42d1-d6ec-76040adcbd1d"
      },
      "execution_count": null,
      "outputs": [
        {
          "output_type": "display_data",
          "data": {
            "text/plain": [
              "<Figure size 432x288 with 1 Axes>"
            ],
            "image/png": "[encoded data removed]"
          },
          "metadata": {
            "needs_background": "light"
          }
        }
      ]
    }
  ]
}